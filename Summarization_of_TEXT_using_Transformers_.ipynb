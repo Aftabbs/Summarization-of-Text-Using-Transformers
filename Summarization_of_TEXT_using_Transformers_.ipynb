{
  "cells": [
    {
      "cell_type": "markdown",
      "metadata": {
        "id": "view-in-github",
        "colab_type": "text"
      },
      "source": [
        "<a href=\"https://colab.research.google.com/github/Aftabbs/Summarization-of-Text-Using-Transformers/blob/main/Summarization_of_TEXT_using_Transformers_.ipynb\" target=\"_parent\"><img src=\"https://colab.research.google.com/assets/colab-badge.svg\" alt=\"Open In Colab\"/></a>"
      ]
    },
    {
      "cell_type": "markdown",
      "source": [
        "# Text Summarization using Transformers"
      ],
      "metadata": {
        "id": "uEce5ekbPb4I"
      },
      "id": "uEce5ekbPb4I"
    },
    {
      "cell_type": "markdown",
      "id": "5815ffab",
      "metadata": {
        "id": "5815ffab"
      },
      "source": [
        "### Install Libraries"
      ]
    },
    {
      "cell_type": "markdown",
      "id": "39f5eb53",
      "metadata": {
        "id": "39f5eb53"
      },
      "source": [
        "Why: In this code snippet, you are installing the necessary Python packages that your project requires. These packages include \"transformers,\" \"sentencepiece,\" \"textwrap3,\" and \"nltk.\" The \"transformers\" package is the core library for working with transformer models, which are essential for text summarization. \"Sentencepiece\" is used for tokenization, \"textwrap3\" helps with text formatting, and \"nltk\" is used for natural language processing tasks.\n",
        "\n",
        "Where: You should use this code snippet at the beginning of your project or notebook, before any other code that depends on these packages. This ensures that you have the required libraries installed before using their functionalities.\n",
        "\n",
        "How: Copy and paste this code snippet into a code cell in your project's notebook or script. Run the cell, and the specified packages will be installed. The !pip install --quiet command installs the packages without displaying excessive output, keeping your environment clean and easy to read. Make sure you run this snippet only once to avoid unnecessary reinstallations. If you want to add more packages later, you can modify this snippet accordingly."
      ]
    },
    {
      "cell_type": "code",
      "source": [
        "import warnings\n",
        "\n",
        "# Filter out all warnings\n",
        "warnings.filterwarnings(\"ignore\")\n"
      ],
      "metadata": {
        "id": "3Sa9bGgjG3cC"
      },
      "id": "3Sa9bGgjG3cC",
      "execution_count": 1,
      "outputs": []
    },
    {
      "cell_type": "code",
      "execution_count": 2,
      "id": "e84df4b9",
      "metadata": {
        "colab": {
          "base_uri": "https://localhost:8080/"
        },
        "id": "e84df4b9",
        "outputId": "afd5e1ea-9bd6-4b4f-881c-1736af590359"
      },
      "outputs": [
        {
          "output_type": "stream",
          "name": "stdout",
          "text": [
            "\u001b[2K     \u001b[90m━━━━━━━━━━━━━━━━━━━━━━━━━━━━━━━━━━━━━━━━\u001b[0m \u001b[32m2.1/2.1 MB\u001b[0m \u001b[31m8.7 MB/s\u001b[0m eta \u001b[36m0:00:00\u001b[0m\n",
            "\u001b[2K     \u001b[90m━━━━━━━━━━━━━━━━━━━━━━━━━━━━━━━━━━━━━━\u001b[0m \u001b[32m880.6/880.6 kB\u001b[0m \u001b[31m24.1 MB/s\u001b[0m eta \u001b[36m0:00:00\u001b[0m\n",
            "\u001b[?25h  Preparing metadata (setup.py) ... \u001b[?25l\u001b[?25hdone\n",
            "\u001b[2K     \u001b[90m━━━━━━━━━━━━━━━━━━━━━━━━━━━━━━━━━━━━━━\u001b[0m \u001b[32m212.7/212.7 kB\u001b[0m \u001b[31m14.9 MB/s\u001b[0m eta \u001b[36m0:00:00\u001b[0m\n",
            "\u001b[?25h  Installing build dependencies ... \u001b[?25l\u001b[?25hdone\n",
            "  Getting requirements to build wheel ... \u001b[?25l\u001b[?25hdone\n",
            "  Preparing metadata (pyproject.toml) ... \u001b[?25l\u001b[?25hdone\n",
            "  \u001b[1;31merror\u001b[0m: \u001b[1msubprocess-exited-with-error\u001b[0m\n",
            "  \n",
            "  \u001b[31m×\u001b[0m \u001b[32mBuilding wheel for tokenizers \u001b[0m\u001b[1;32m(\u001b[0m\u001b[32mpyproject.toml\u001b[0m\u001b[1;32m)\u001b[0m did not run successfully.\n",
            "  \u001b[31m│\u001b[0m exit code: \u001b[1;36m1\u001b[0m\n",
            "  \u001b[31m╰─>\u001b[0m See above for output.\n",
            "  \n",
            "  \u001b[1;35mnote\u001b[0m: This error originates from a subprocess, and is likely not a problem with pip.\n",
            "  Building wheel for tokenizers (pyproject.toml) ... \u001b[?25l\u001b[?25herror\n",
            "\u001b[31m  ERROR: Failed building wheel for tokenizers\u001b[0m\u001b[31m\n",
            "\u001b[0m  Building wheel for sacremoses (setup.py) ... \u001b[?25l\u001b[?25hdone\n",
            "\u001b[31mERROR: Could not build wheels for tokenizers, which is required to install pyproject.toml-based projects\u001b[0m\u001b[31m\n",
            "\u001b[2K     \u001b[90m━━━━━━━━━━━━━━━━━━━━━━━━━━━━━━━━━━━━━━━\u001b[0m \u001b[32m508.7/508.7 kB\u001b[0m \u001b[31m5.5 MB/s\u001b[0m eta \u001b[36m0:00:00\u001b[0m\n",
            "\u001b[?25h  Preparing metadata (setup.py) ... \u001b[?25l\u001b[?25hdone\n",
            "  Building wheel for sentencepiece (setup.py) ... \u001b[?25l\u001b[?25hdone\n",
            "\u001b[2K     \u001b[90m━━━━━━━━━━━━━━━━━━━━━━━━━━━━━━━━━━━━━━━━\u001b[0m \u001b[32m1.2/1.2 MB\u001b[0m \u001b[31m12.3 MB/s\u001b[0m eta \u001b[36m0:00:00\u001b[0m\n",
            "\u001b[?25h  Preparing metadata (setup.py) ... \u001b[?25l\u001b[?25hdone\n",
            "  Building wheel for nltk (setup.py) ... \u001b[?25l\u001b[?25hdone\n"
          ]
        }
      ],
      "source": [
        "!pip install --quiet transformers==4.5.0\n",
        "!pip install --quiet sentencepiece==0.1.95\n",
        "!pip install --quiet textwrap3==0.9.2\n",
        "!pip install --quiet nltk==3.2.5"
      ]
    },
    {
      "cell_type": "markdown",
      "id": "cda84a32",
      "metadata": {
        "id": "cda84a32"
      },
      "source": [
        "Why: In this code snippet, you are installing a Python package called \"ipython-autotime.\" This package allows you to automatically display the execution time of each code cell in your Jupyter Notebook. This can be helpful for tracking how long different parts of your code take to run, which is useful for optimizing and understanding your code's performance.\n",
        "\n",
        "Where: You should include this code snippet near the top of your Jupyter Notebook, typically after you've installed all the required packages and before you start writing your main code."
      ]
    },
    {
      "cell_type": "code",
      "execution_count": 3,
      "id": "9074791e",
      "metadata": {
        "colab": {
          "base_uri": "https://localhost:8080/"
        },
        "id": "9074791e",
        "outputId": "1fb54b9a-4c28-4c5e-b2cc-fa98a6d1fb81"
      },
      "outputs": [
        {
          "output_type": "stream",
          "name": "stdout",
          "text": [
            "\u001b[?25l     \u001b[90m━━━━━━━━━━━━━━━━━━━━━━━━━━━━━━━━━━━━━━━━\u001b[0m \u001b[32m0.0/1.6 MB\u001b[0m \u001b[31m?\u001b[0m eta \u001b[36m-:--:--\u001b[0m\r\u001b[2K     \u001b[91m━\u001b[0m\u001b[90m╺\u001b[0m\u001b[90m━━━━━━━━━━━━━━━━━━━━━━━━━━━━━━━━━━━━━━\u001b[0m \u001b[32m0.0/1.6 MB\u001b[0m \u001b[31m1.6 MB/s\u001b[0m eta \u001b[36m0:00:01\u001b[0m\r\u001b[2K     \u001b[91m━━━━━━━━━━\u001b[0m\u001b[90m╺\u001b[0m\u001b[90m━━━━━━━━━━━━━━━━━━━━━━━━━━━━━\u001b[0m \u001b[32m0.4/1.6 MB\u001b[0m \u001b[31m6.8 MB/s\u001b[0m eta \u001b[36m0:00:01\u001b[0m\r\u001b[2K     \u001b[91m━━━━━━━━━━━━━━━━━━━━━━━━\u001b[0m\u001b[91m╸\u001b[0m\u001b[90m━━━━━━━━━━━━━━━\u001b[0m \u001b[32m1.0/1.6 MB\u001b[0m \u001b[31m10.0 MB/s\u001b[0m eta \u001b[36m0:00:01\u001b[0m\r\u001b[2K     \u001b[91m━━━━━━━━━━━━━━━━━━━━━━━━━━━━━━━━━━━━━━━\u001b[0m\u001b[91m╸\u001b[0m \u001b[32m1.6/1.6 MB\u001b[0m \u001b[31m12.8 MB/s\u001b[0m eta \u001b[36m0:00:01\u001b[0m\r\u001b[2K     \u001b[90m━━━━━━━━━━━━━━━━━━━━━━━━━━━━━━━━━━━━━━━━\u001b[0m \u001b[32m1.6/1.6 MB\u001b[0m \u001b[31m11.4 MB/s\u001b[0m eta \u001b[36m0:00:00\u001b[0m\n",
            "\u001b[?25htime: 460 µs (started: 2023-08-29 02:27:51 +00:00)\n"
          ]
        }
      ],
      "source": [
        "!pip install --quiet ipython-autotime\n",
        "%load_ext autotime"
      ]
    },
    {
      "cell_type": "markdown",
      "source": [
        "### Sample 1"
      ],
      "metadata": {
        "id": "hdIejRBLH1l0"
      },
      "id": "hdIejRBLH1l0"
    },
    {
      "cell_type": "markdown",
      "id": "4b21aedc",
      "metadata": {
        "id": "4b21aedc"
      },
      "source": [
        "Why: In this below code snippet, you are using the textwrap3 library to format a long paragraph of text into lines of a specified width. This is important for presenting text in a more readable and organized manner, especially in cases where the text is too long to fit comfortably within the width of a page or screen.\n",
        "\n",
        "Where: You should use this code snippet when you want to format a long piece of text into lines of a certain width for better readability. This can be useful for displaying long passages of text in a way that doesn't require horizontal scrolling"
      ]
    },
    {
      "cell_type": "code",
      "execution_count": 4,
      "id": "64760ddc",
      "metadata": {
        "colab": {
          "base_uri": "https://localhost:8080/"
        },
        "id": "64760ddc",
        "outputId": "ee8666bf-51f1-46b0-b79e-98f3191cfb5d"
      },
      "outputs": [
        {
          "output_type": "stream",
          "name": "stdout",
          "text": [
            "The DeepMind co-founder calls for the ‘containment’ of new technology in a heartfelt and candid exploration of what the future may hold for us.What is\n",
            "it with wave metaphors? Technological determinists – people who believe that technology drives history – love them. Think of Alvin Toffler, who saw\n",
            "the history of civilisation as a succession of three such waves (agricultural, industrial and post-industrial). The idea is of immense power,\n",
            "unstoppable, moving inexorably towards us as we cower before its immensity, much as the dinosaurs must have done when they saw the mile-high tsunami\n",
            "heading in their direction.Mustafa Suleyman says he is not a determinist, but at times he sounds awfully like one. “At its heart,” he writes at one\n",
            "point, “technology emerges to fill human needs. If people have powerful reasons to build and use it, it will get built and used. Yet in most\n",
            "discussions of technology people still get stuck on what it is, forgetting why it was created in the first place. This is not about some innate\n",
            "techno-determinism. This is about what it means to be human.” The oncoming wave in his title is “defined by two core technologies: artificial\n",
            "intelligence (AI) and synthetic biology”, and it’s the conjunction of the two that makes it intriguing and original. Together, he thinks, these two\n",
            "“will usher in a new dawn for humanity, creating wealth and surplus unlike anything ever seen. And yet their rapid proliferation also threatens to\n",
            "empower a diverse array of bad actors to unleash disruption, instability, and even catastrophe on an unimaginable scale.” Our future, apparently,\n",
            "“both depends on these technologies and is imperilled by them”. Once you get past this hyperbolic prologue, the book settles down into a serious\n",
            "exploration of what the future might hold for us all. Suleyman’s credentials for the task are good: he was co-founder of DeepMind, arguably the\n",
            "smartest AI company around, but he has also worked in the charitable sector, in British local government, and at Google – where he worked on the\n",
            "company’s large language models (LLMs) and the thankless task of trying to persuade the search behemoth to take ethics seriously. Although he hasn’t\n",
            "worked in molecular biology, his account of DNA sequencing, gene editing and the design and manufacture of new genetic products seems well-informed\n",
            "and supports his case that AI and computational biology are the twin challenges that will soon confront societies.\n",
            "\n",
            "\n",
            "time: 15.8 ms (started: 2023-08-29 02:28:20 +00:00)\n"
          ]
        }
      ],
      "source": [
        "from textwrap3 import wrap\n",
        "text = \"\"\"The DeepMind co-founder calls for the ‘containment’ of new technology in a heartfelt and candid exploration of what the future may hold for us.What is it with wave metaphors? Technological determinists – people who believe that technology drives history – love them. Think of Alvin Toffler, who saw the history of civilisation as a succession of three such waves (agricultural, industrial and post-industrial). The idea is of immense power, unstoppable, moving inexorably towards us as we cower before its immensity, much as the dinosaurs must have done when they saw the mile-high tsunami heading in their direction.Mustafa Suleyman says he is not a determinist, but at times he sounds awfully like one. “At its heart,” he writes at one point, “technology emerges to fill human needs. If people have powerful reasons to build and use it, it will get built and used. Yet in most discussions of technology people still get stuck on what it is, forgetting why it was created in the first place. This is not about some innate techno-determinism. This is about what it means to be human.”\n",
        "The oncoming wave in his title is “defined by two core technologies: artificial intelligence (AI) and synthetic biology”, and it’s the conjunction of the two that makes it intriguing and original. Together, he thinks, these two “will usher in a new dawn for humanity, creating wealth and surplus unlike anything ever seen. And yet their rapid proliferation also threatens to empower a diverse array of bad actors to unleash disruption, instability, and even catastrophe on an unimaginable scale.” Our future, apparently, “both depends on these technologies and is imperilled by them”.\n",
        "Once you get past this hyperbolic prologue, the book settles down into a serious exploration of what the future might hold for us all. Suleyman’s credentials for the task are good: he was co-founder of DeepMind, arguably the smartest AI company around, but he has also worked in the charitable sector, in British local government, and at Google – where he worked on the company’s large language models (LLMs) and the thankless task of trying to persuade the search behemoth to take ethics seriously. Although he hasn’t worked in molecular biology, his account of DNA sequencing, gene editing and the design and manufacture of new genetic products seems well-informed and supports his case that AI and computational biology are the twin challenges that will soon confront societies.\"\"\"\n",
        "\n",
        "for wrp in wrap(text, 150):\n",
        "  print (wrp)\n",
        "print (\"\\n\")"
      ]
    },
    {
      "cell_type": "markdown",
      "source": [
        "### Sample 2"
      ],
      "metadata": {
        "id": "c656cd31"
      },
      "id": "c656cd31"
    },
    {
      "cell_type": "code",
      "execution_count": null,
      "id": "39c1c556",
      "metadata": {
        "id": "39c1c556"
      },
      "outputs": [],
      "source": [
        "text = \"\"\"Nestled in the southern part of India, Bangalore stands as a dynamic and multifaceted city that has captivated the nation and the world alike.\n",
        "Fondly known as the \"Garden City of India,\" Bangalore's lush greenery, pleasant climate, and diverse culture offer a striking contrast to its bustling technological advancements.\n",
        "At the heart of Bangalore's allure lies its status as the \"Silicon Valley of India.\" The city's booming IT sector has earned it global recognition as a tech innovation hub.\n",
        "With its towering glass buildings and modern infrastructure, Bangalore showcases India's prowess in software development and cutting-edge technologies. Countless startups,\n",
        "global corporations, and research institutions have found their home within its limits, making it a thriving center of creativity and invention.\n",
        "But Bangalore's appeal extends far beyond its technological achievements. The city's historical legacy is visible in its architectural marvels such as the Bangalore Palace,\n",
        "which offers a glimpse into its royal past. The renowned Lalbagh Botanical Garden stands as a testament to the city's commitment to preserving nature amid urbanization.\n",
        "Bangalore's educational institutions are equally celebrated, housing some of the country's most prestigious universities and research centers.\n",
        "Culturally, Bangalore is a melting pot, where traditions blend harmoniously with contemporary lifestyles. The city's diverse population contributes to its rich tapestry of\n",
        "languages, cuisine, festivals, and art forms. Whether it's enjoying a traditional South Indian meal at a local eatery or attending a global music festival, Bangalore's cultural\n",
        " experiences are as vibrant as they are varied.In essence, Bangalore exemplifies the harmonious coexistence of tradition and innovation. As India's tech capital,\n",
        " it propels the nation forward in the digital age, while its cultural heritage reminds us of the importance of preserving history and embracing diversity. Bangalore's allure lies in its ability to encapsulate the best of both worlds, making it a city that continues to capture hearts and imaginations.\n",
        "\n",
        " \"\"\"\n",
        "for wrp in wrap(text, 150):\n",
        "  print (wrp)\n",
        "print (\"\\n\")"
      ]
    },
    {
      "cell_type": "markdown",
      "id": "fed0120a",
      "metadata": {
        "id": "fed0120a"
      },
      "source": [
        "### Summarization with T5\n",
        "learn more about T5 @ https://huggingface.co/docs/transformers/model_doc/t5\n",
        "\n",
        "**T5 is an encoder-decoder model pre-trained on a multi-task mixture of unsupervised and supervised tasks and for which each task is converted into a text-to-text format. T5 works well on a variety of tasks out-of-the-box by prepending a different prefix to the input corresponding to each task, e.g., for translation,summarization..**"
      ]
    },
    {
      "cell_type": "markdown",
      "id": "e825856f",
      "metadata": {
        "id": "e825856f"
      },
      "source": [
        "________________________________________________________________________\n",
        "Why: This below code snippet sets up the environment and tools required for performing text summarization using the T5 model from the Hugging Face Transformers library. It's crucial to configure your environment, load the necessary model and tokenizer, and allocate resources (CPU or GPU) for the computation.\n",
        "\n",
        "Where: Place this code snippet at the beginning of your project, before you start using the model and tokenizer for text summarization tasks.\n",
        "________________________________________________________________________\n"
      ]
    },
    {
      "cell_type": "code",
      "source": [
        "!pip install --upgrade pip setuptools\n",
        "# Sometimes while Installing you might face some Installation issues so try running these commands"
      ],
      "metadata": {
        "colab": {
          "base_uri": "https://localhost:8080/",
          "height": 425
        },
        "id": "A2z5aIx-IyRl",
        "outputId": "171a3671-dc57-4502-be55-b7c47501c91a"
      },
      "id": "A2z5aIx-IyRl",
      "execution_count": 9,
      "outputs": [
        {
          "output_type": "stream",
          "name": "stdout",
          "text": [
            "Requirement already satisfied: pip in /usr/local/lib/python3.10/dist-packages (23.1.2)\n",
            "Collecting pip\n",
            "  Downloading pip-23.2.1-py3-none-any.whl (2.1 MB)\n",
            "\u001b[2K     \u001b[90m━━━━━━━━━━━━━━━━━━━━━━━━━━━━━━━━━━━━━━━━\u001b[0m \u001b[32m2.1/2.1 MB\u001b[0m \u001b[31m12.7 MB/s\u001b[0m eta \u001b[36m0:00:00\u001b[0m\n",
            "\u001b[?25hRequirement already satisfied: setuptools in /usr/local/lib/python3.10/dist-packages (67.7.2)\n",
            "Collecting setuptools\n",
            "  Using cached setuptools-68.1.2-py3-none-any.whl (805 kB)\n",
            "Installing collected packages: setuptools, pip\n",
            "  Attempting uninstall: setuptools\n",
            "    Found existing installation: setuptools 67.7.2\n",
            "    Uninstalling setuptools-67.7.2:\n",
            "      Successfully uninstalled setuptools-67.7.2\n",
            "  Attempting uninstall: pip\n",
            "    Found existing installation: pip 23.1.2\n",
            "    Uninstalling pip-23.1.2:\n",
            "      Successfully uninstalled pip-23.1.2\n",
            "Successfully installed pip-23.2.1 setuptools-68.1.2\n"
          ]
        },
        {
          "output_type": "display_data",
          "data": {
            "application/vnd.colab-display-data+json": {
              "pip_warning": {
                "packages": [
                  "_distutils_hack",
                  "pkg_resources",
                  "setuptools"
                ]
              }
            }
          },
          "metadata": {}
        },
        {
          "output_type": "stream",
          "name": "stdout",
          "text": [
            "time: 16.4 s (started: 2023-08-29 02:33:03 +00:00)\n"
          ]
        }
      ]
    },
    {
      "cell_type": "code",
      "source": [
        "!apt-get -qq install libpython3.7-dev\n"
      ],
      "metadata": {
        "colab": {
          "base_uri": "https://localhost:8080/"
        },
        "id": "f5nYxn7_I0QV",
        "outputId": "55ccc1ab-2fd0-4936-9af1-5daf0833e095"
      },
      "id": "f5nYxn7_I0QV",
      "execution_count": 10,
      "outputs": [
        {
          "output_type": "stream",
          "name": "stdout",
          "text": [
            "Selecting previously unselected package libpython3.7-minimal:amd64.\n",
            "(Reading database ... 120831 files and directories currently installed.)\n",
            "Preparing to unpack .../0-libpython3.7-minimal_3.7.17-1+jammy1_amd64.deb ...\n",
            "Unpacking libpython3.7-minimal:amd64 (3.7.17-1+jammy1) ...\n",
            "Selecting previously unselected package mailcap.\n",
            "Preparing to unpack .../1-mailcap_3.70+nmu1ubuntu1_all.deb ...\n",
            "Unpacking mailcap (3.70+nmu1ubuntu1) ...\n",
            "Selecting previously unselected package mime-support.\n",
            "Preparing to unpack .../2-mime-support_3.66_all.deb ...\n",
            "Unpacking mime-support (3.66) ...\n",
            "Selecting previously unselected package libpython3.7-stdlib:amd64.\n",
            "Preparing to unpack .../3-libpython3.7-stdlib_3.7.17-1+jammy1_amd64.deb ...\n",
            "Unpacking libpython3.7-stdlib:amd64 (3.7.17-1+jammy1) ...\n",
            "Selecting previously unselected package libpython3.7:amd64.\n",
            "Preparing to unpack .../4-libpython3.7_3.7.17-1+jammy1_amd64.deb ...\n",
            "Unpacking libpython3.7:amd64 (3.7.17-1+jammy1) ...\n",
            "Selecting previously unselected package libpython3.7-dev:amd64.\n",
            "Preparing to unpack .../5-libpython3.7-dev_3.7.17-1+jammy1_amd64.deb ...\n",
            "Unpacking libpython3.7-dev:amd64 (3.7.17-1+jammy1) ...\n",
            "Setting up libpython3.7-minimal:amd64 (3.7.17-1+jammy1) ...\n",
            "Setting up mailcap (3.70+nmu1ubuntu1) ...\n",
            "Setting up mime-support (3.66) ...\n",
            "Setting up libpython3.7-stdlib:amd64 (3.7.17-1+jammy1) ...\n",
            "Setting up libpython3.7:amd64 (3.7.17-1+jammy1) ...\n",
            "Setting up libpython3.7-dev:amd64 (3.7.17-1+jammy1) ...\n",
            "Processing triggers for man-db (2.10.2-1) ...\n",
            "time: 7.35 s (started: 2023-08-29 02:33:44 +00:00)\n"
          ]
        }
      ]
    },
    {
      "cell_type": "code",
      "source": [
        "!pip install  transformers"
      ],
      "metadata": {
        "colab": {
          "base_uri": "https://localhost:8080/"
        },
        "id": "-_SXxurLIKFH",
        "outputId": "fa0242ba-efaa-4838-c871-6ccd8cdf4e79"
      },
      "id": "-_SXxurLIKFH",
      "execution_count": 13,
      "outputs": [
        {
          "output_type": "stream",
          "name": "stdout",
          "text": [
            "Collecting transformers\n",
            "  Obtaining dependency information for transformers from https://files.pythonhosted.org/packages/83/8d/f65f8138365462ace54458a9e164f4b28ce1141361970190eef36bdef986/transformers-4.32.1-py3-none-any.whl.metadata\n",
            "  Downloading transformers-4.32.1-py3-none-any.whl.metadata (118 kB)\n",
            "\u001b[2K     \u001b[90m━━━━━━━━━━━━━━━━━━━━━━━━━━━━━━━━━━━━━━━\u001b[0m \u001b[32m118.5/118.5 kB\u001b[0m \u001b[31m1.9 MB/s\u001b[0m eta \u001b[36m0:00:00\u001b[0m\n",
            "\u001b[?25hRequirement already satisfied: filelock in /usr/local/lib/python3.10/dist-packages (from transformers) (3.12.2)\n",
            "Collecting huggingface-hub<1.0,>=0.15.1 (from transformers)\n",
            "  Obtaining dependency information for huggingface-hub<1.0,>=0.15.1 from https://files.pythonhosted.org/packages/7f/c4/adcbe9a696c135578cabcbdd7331332daad4d49b7c43688bc2d36b3a47d2/huggingface_hub-0.16.4-py3-none-any.whl.metadata\n",
            "  Downloading huggingface_hub-0.16.4-py3-none-any.whl.metadata (12 kB)\n",
            "Requirement already satisfied: numpy>=1.17 in /usr/local/lib/python3.10/dist-packages (from transformers) (1.23.5)\n",
            "Requirement already satisfied: packaging>=20.0 in /usr/local/lib/python3.10/dist-packages (from transformers) (23.1)\n",
            "Requirement already satisfied: pyyaml>=5.1 in /usr/local/lib/python3.10/dist-packages (from transformers) (6.0.1)\n",
            "Requirement already satisfied: regex!=2019.12.17 in /usr/local/lib/python3.10/dist-packages (from transformers) (2023.6.3)\n",
            "Requirement already satisfied: requests in /usr/local/lib/python3.10/dist-packages (from transformers) (2.31.0)\n",
            "Collecting tokenizers!=0.11.3,<0.14,>=0.11.1 (from transformers)\n",
            "  Downloading tokenizers-0.13.3-cp310-cp310-manylinux_2_17_x86_64.manylinux2014_x86_64.whl (7.8 MB)\n",
            "\u001b[2K     \u001b[90m━━━━━━━━━━━━━━━━━━━━━━━━━━━━━━━━━━━━━━━━\u001b[0m \u001b[32m7.8/7.8 MB\u001b[0m \u001b[31m27.5 MB/s\u001b[0m eta \u001b[36m0:00:00\u001b[0m\n",
            "\u001b[?25hCollecting safetensors>=0.3.1 (from transformers)\n",
            "  Obtaining dependency information for safetensors>=0.3.1 from https://files.pythonhosted.org/packages/6c/f0/c17bbdb1e5f9dab29d44cade445135789f75f8f08ea2728d04493ea8412b/safetensors-0.3.3-cp310-cp310-manylinux_2_17_x86_64.manylinux2014_x86_64.whl.metadata\n",
            "  Downloading safetensors-0.3.3-cp310-cp310-manylinux_2_17_x86_64.manylinux2014_x86_64.whl.metadata (4.7 kB)\n",
            "Requirement already satisfied: tqdm>=4.27 in /usr/local/lib/python3.10/dist-packages (from transformers) (4.66.1)\n",
            "Requirement already satisfied: fsspec in /usr/local/lib/python3.10/dist-packages (from huggingface-hub<1.0,>=0.15.1->transformers) (2023.6.0)\n",
            "Requirement already satisfied: typing-extensions>=3.7.4.3 in /usr/local/lib/python3.10/dist-packages (from huggingface-hub<1.0,>=0.15.1->transformers) (4.7.1)\n",
            "Requirement already satisfied: charset-normalizer<4,>=2 in /usr/local/lib/python3.10/dist-packages (from requests->transformers) (3.2.0)\n",
            "Requirement already satisfied: idna<4,>=2.5 in /usr/local/lib/python3.10/dist-packages (from requests->transformers) (3.4)\n",
            "Requirement already satisfied: urllib3<3,>=1.21.1 in /usr/local/lib/python3.10/dist-packages (from requests->transformers) (2.0.4)\n",
            "Requirement already satisfied: certifi>=2017.4.17 in /usr/local/lib/python3.10/dist-packages (from requests->transformers) (2023.7.22)\n",
            "Downloading transformers-4.32.1-py3-none-any.whl (7.5 MB)\n",
            "\u001b[2K   \u001b[90m━━━━━━━━━━━━━━━━━━━━━━━━━━━━━━━━━━━━━━━━\u001b[0m \u001b[32m7.5/7.5 MB\u001b[0m \u001b[31m47.4 MB/s\u001b[0m eta \u001b[36m0:00:00\u001b[0m\n",
            "\u001b[?25hDownloading huggingface_hub-0.16.4-py3-none-any.whl (268 kB)\n",
            "\u001b[2K   \u001b[90m━━━━━━━━━━━━━━━━━━━━━━━━━━━━━━━━━━━━━━━━\u001b[0m \u001b[32m268.8/268.8 kB\u001b[0m \u001b[31m23.1 MB/s\u001b[0m eta \u001b[36m0:00:00\u001b[0m\n",
            "\u001b[?25hDownloading safetensors-0.3.3-cp310-cp310-manylinux_2_17_x86_64.manylinux2014_x86_64.whl (1.3 MB)\n",
            "\u001b[2K   \u001b[90m━━━━━━━━━━━━━━━━━━━━━━━━━━━━━━━━━━━━━━━━\u001b[0m \u001b[32m1.3/1.3 MB\u001b[0m \u001b[31m43.3 MB/s\u001b[0m eta \u001b[36m0:00:00\u001b[0m\n",
            "\u001b[?25hInstalling collected packages: tokenizers, safetensors, huggingface-hub, transformers\n",
            "Successfully installed huggingface-hub-0.16.4 safetensors-0.3.3 tokenizers-0.13.3 transformers-4.32.1\n",
            "\u001b[33mWARNING: Running pip as the 'root' user can result in broken permissions and conflicting behaviour with the system package manager. It is recommended to use a virtual environment instead: https://pip.pypa.io/warnings/venv\u001b[0m\u001b[33m\n",
            "\u001b[0mtime: 18.4 s (started: 2023-08-29 02:34:34 +00:00)\n"
          ]
        }
      ]
    },
    {
      "cell_type": "code",
      "source": [
        "from transformers import T5ForConditionalGeneration,T5Tokenizer"
      ],
      "metadata": {
        "colab": {
          "base_uri": "https://localhost:8080/"
        },
        "id": "-rLCuGDAIHZ4",
        "outputId": "b4a0c33a-9e22-4aa5-fc42-cae2e4b93472"
      },
      "id": "-rLCuGDAIHZ4",
      "execution_count": 14,
      "outputs": [
        {
          "output_type": "stream",
          "name": "stdout",
          "text": [
            "time: 1.25 s (started: 2023-08-29 02:34:58 +00:00)\n"
          ]
        }
      ]
    },
    {
      "cell_type": "code",
      "execution_count": 15,
      "id": "ab493e3e",
      "metadata": {
        "colab": {
          "base_uri": "https://localhost:8080/",
          "height": 200,
          "referenced_widgets": [
            "80d823a081ae4d9cb723b93953e400b9",
            "be27094363c942509518b5bc49779292",
            "4b6ef08c1442419db83f5c961e605f90",
            "faf75e8917e14aed9c7848d1a1561f35",
            "b815cc90115e41a485258dff72bf2fa7",
            "dae4f628821f4cfa9d5deb89580a7f89",
            "753c80a3220f4780909d8b5d2e361b31",
            "dfb7520a2ffa48be95f52fafc1c3b485",
            "804b1f526a6448838e2230d08cde115d",
            "17dbe082b12d4c3fbb61b10c9f1c942c",
            "0b616949c13c4298a1f7409c69368574",
            "c752840e2c144e4a8414b9b713c689b1",
            "525f2fdc8afb43e8925c77f7038014ba",
            "0b783a046a224dfc8811de911409a74b",
            "206ec78033bc4511906e55e98196af58",
            "7f7b94d51a9c44b99b54dc008a074f1c",
            "3b8254192d284e39a33d8644aed364c7",
            "2396b7857d64475b95901b5207de740f",
            "bd11dbc3886049139eb59b634f9a53df",
            "f8f08443b43b48b3b6a4173e02092d95",
            "141878adcf11434bbdf20b28a5db83ab",
            "9e9e9952241f4c3bb83cd80344a9aa12",
            "27158fab5eab4e689ff5d276c3f3663c",
            "083aaa01a5c2416fa27e8394dc268eda",
            "23651fd4ed9a438192383bea7094ce62",
            "7b582184d5ed49428958aef2497e5b79",
            "11e0e34c72ca4c2f8e23f24775375957",
            "d281b297da1a4375bb55a79ac0a631c7",
            "a97b203cc1c9485f9a1f689fa7e488f4",
            "fde3de65f9e3466dbe7f1c533ced04e5",
            "183601de8dd64359a6c87d95fbc5dec2",
            "076ea0a7f1b747c7908faa720c1f74c3",
            "86c002c4475d4663905ebbcf542298bf",
            "490d0bd60fb54f6eb20c228ac45a6ae5",
            "2889f53a0a484d309c99a230c5446ffd",
            "e436f41fa7964d2b8e43b8b372de6d45",
            "3a527338d447452f8521de0aedd3fd1e",
            "cba211a1a08342709307233d6bf100af",
            "b811481c378f45c08d467f9cadfc9df2",
            "8c95f5552a6d498fb78c31c87976eda6",
            "110bbd7261b94f53af60e32d11c52d17",
            "74faadafa9d64e9d9479ad1d81761cda",
            "514cd6c01d6c4ad4b5795e581564dd55",
            "b3f507e55d7946dd967b7d1576663378"
          ]
        },
        "id": "ab493e3e",
        "outputId": "b3015b1c-84b6-4e86-bca9-192161ae24e4"
      },
      "outputs": [
        {
          "output_type": "display_data",
          "data": {
            "text/plain": [
              "Downloading (…)lve/main/config.json:   0%|          | 0.00/1.21k [00:00<?, ?B/s]"
            ],
            "application/vnd.jupyter.widget-view+json": {
              "version_major": 2,
              "version_minor": 0,
              "model_id": "80d823a081ae4d9cb723b93953e400b9"
            }
          },
          "metadata": {}
        },
        {
          "output_type": "display_data",
          "data": {
            "text/plain": [
              "Downloading model.safetensors:   0%|          | 0.00/892M [00:00<?, ?B/s]"
            ],
            "application/vnd.jupyter.widget-view+json": {
              "version_major": 2,
              "version_minor": 0,
              "model_id": "c752840e2c144e4a8414b9b713c689b1"
            }
          },
          "metadata": {}
        },
        {
          "output_type": "display_data",
          "data": {
            "text/plain": [
              "Downloading (…)neration_config.json:   0%|          | 0.00/147 [00:00<?, ?B/s]"
            ],
            "application/vnd.jupyter.widget-view+json": {
              "version_major": 2,
              "version_minor": 0,
              "model_id": "27158fab5eab4e689ff5d276c3f3663c"
            }
          },
          "metadata": {}
        },
        {
          "output_type": "display_data",
          "data": {
            "text/plain": [
              "Downloading (…)ve/main/spiece.model:   0%|          | 0.00/792k [00:00<?, ?B/s]"
            ],
            "application/vnd.jupyter.widget-view+json": {
              "version_major": 2,
              "version_minor": 0,
              "model_id": "490d0bd60fb54f6eb20c228ac45a6ae5"
            }
          },
          "metadata": {}
        },
        {
          "output_type": "stream",
          "name": "stderr",
          "text": [
            "You are using the default legacy behaviour of the <class 'transformers.models.t5.tokenization_t5.T5Tokenizer'>. If you see this, DO NOT PANIC! This is expected, and simply means that the `legacy` (previous) behavior will be used so nothing changes for you. If you want to use the new behaviour, set `legacy=True`. This should only be set if you understand what it means, and thouroughly read the reason why this was added as explained in https://github.com/huggingface/transformers/pull/24565\n"
          ]
        },
        {
          "output_type": "stream",
          "name": "stdout",
          "text": [
            "time: 21.9 s (started: 2023-08-29 02:35:08 +00:00)\n"
          ]
        }
      ],
      "source": [
        "import torch\n",
        "# from transformers import T5ForConditionalGeneration,T5Tokenizer\n",
        "summary_model = T5ForConditionalGeneration.from_pretrained('t5-base')\n",
        "summary_tokenizer = T5Tokenizer.from_pretrained('t5-base')\n",
        "\n",
        "device = torch.device(\"cuda\" if torch.cuda.is_available() else \"cpu\")\n",
        "summary_model = summary_model.to(device)\n"
      ]
    },
    {
      "cell_type": "markdown",
      "id": "25a33c0d",
      "metadata": {
        "id": "25a33c0d"
      },
      "source": [
        "________________________________________________________________________________\n",
        "Why: This below code snippet defines a function called set_seed() and uses it to set random number generator seeds for different libraries. Setting a seed ensures that the random behavior of these libraries remains consistent across different runs, making your experiments reproducible.\n",
        "\n",
        "Where: Place this code snippet right after the environment setup and model loading code, before any random or data-related operations occur.\n",
        "_____________________________________________________________________\n",
        "\n"
      ]
    },
    {
      "cell_type": "code",
      "execution_count": 16,
      "id": "50335755",
      "metadata": {
        "colab": {
          "base_uri": "https://localhost:8080/"
        },
        "id": "50335755",
        "outputId": "ab563275-681b-4f06-9f6b-822978ce7c96"
      },
      "outputs": [
        {
          "output_type": "stream",
          "name": "stdout",
          "text": [
            "time: 5.34 ms (started: 2023-08-29 02:35:36 +00:00)\n"
          ]
        }
      ],
      "source": [
        "import random\n",
        "import numpy as np\n",
        "\n",
        "def set_seed(seed: int):\n",
        "    random.seed(seed)\n",
        "    np.random.seed(seed)\n",
        "    torch.manual_seed(seed)\n",
        "    torch.cuda.manual_seed_all(seed)\n",
        "\n",
        "set_seed(42)"
      ]
    },
    {
      "cell_type": "markdown",
      "id": "6afe931a",
      "metadata": {
        "id": "6afe931a"
      },
      "source": [
        "__________________________________________________________________________\n",
        "Why:\n",
        "This below code snippet defines a summarization function using the loaded T5 model and tokenizer. The function preprocesses the input text, generates a summary using the model, post-processes the generated summary to improve readability, and then prints both the original and summarized texts.\n",
        "\n",
        "Where:\n",
        "Place this code snippet after the previously discussed sections, especially after setting up the model, tokenizer, and the seed function\n",
        "_________________________________________________________________________________"
      ]
    },
    {
      "cell_type": "code",
      "execution_count": 17,
      "id": "d15ad699",
      "metadata": {
        "colab": {
          "base_uri": "https://localhost:8080/"
        },
        "id": "d15ad699",
        "outputId": "2466f64d-b58e-4057-ea46-907009db6d97"
      },
      "outputs": [
        {
          "output_type": "stream",
          "name": "stdout",
          "text": [
            "[nltk_data] Downloading package punkt to /root/nltk_data...\n",
            "[nltk_data]   Unzipping tokenizers/punkt.zip.\n",
            "[nltk_data] Downloading package brown to /root/nltk_data...\n",
            "[nltk_data]   Unzipping corpora/brown.zip.\n",
            "[nltk_data] Downloading package wordnet to /root/nltk_data...\n",
            "\n",
            "original Text >>\n",
            "The DeepMind co-founder calls for the ‘containment’ of new technology in a heartfelt and candid exploration of what the future may hold for us.What is\n",
            "it with wave metaphors? Technological determinists – people who believe that technology drives history – love them. Think of Alvin Toffler, who saw\n",
            "the history of civilisation as a succession of three such waves (agricultural, industrial and post-industrial). The idea is of immense power,\n",
            "unstoppable, moving inexorably towards us as we cower before its immensity, much as the dinosaurs must have done when they saw the mile-high tsunami\n",
            "heading in their direction.Mustafa Suleyman says he is not a determinist, but at times he sounds awfully like one. “At its heart,” he writes at one\n",
            "point, “technology emerges to fill human needs. If people have powerful reasons to build and use it, it will get built and used. Yet in most\n",
            "discussions of technology people still get stuck on what it is, forgetting why it was created in the first place. This is not about some innate\n",
            "techno-determinism. This is about what it means to be human.” The oncoming wave in his title is “defined by two core technologies: artificial\n",
            "intelligence (AI) and synthetic biology”, and it’s the conjunction of the two that makes it intriguing and original. Together, he thinks, these two\n",
            "“will usher in a new dawn for humanity, creating wealth and surplus unlike anything ever seen. And yet their rapid proliferation also threatens to\n",
            "empower a diverse array of bad actors to unleash disruption, instability, and even catastrophe on an unimaginable scale.” Our future, apparently,\n",
            "“both depends on these technologies and is imperilled by them”. Once you get past this hyperbolic prologue, the book settles down into a serious\n",
            "exploration of what the future might hold for us all. Suleyman’s credentials for the task are good: he was co-founder of DeepMind, arguably the\n",
            "smartest AI company around, but he has also worked in the charitable sector, in British local government, and at Google – where he worked on the\n",
            "company’s large language models (LLMs) and the thankless task of trying to persuade the search behemoth to take ethics seriously. Although he hasn’t\n",
            "worked in molecular biology, his account of DNA sequencing, gene editing and the design and manufacture of new genetic products seems well-informed\n",
            "and supports his case that AI and computational biology are the twin challenges that will soon confront societies.\n",
            "\n",
            "\n",
            "Summarized Text >>\n",
            "Mustafa suleyman says he is not a determinist, but at times sounds awfully like one. The oncoming wave in his title is \"defined by two core\n",
            "technologies: ai and synthetic biology\" our future, apparently, \"both depends on these technologies and is imperilled by them\" the author has also\n",
            "worked in the charitable sector, in british local government, and at google - where his work on the company’s large language models (llms) was praised\n",
            "by the british media\n",
            "\n",
            "\n",
            "time: 26.8 s (started: 2023-08-29 02:35:40 +00:00)\n"
          ]
        }
      ],
      "source": [
        "import nltk\n",
        "nltk.download('punkt')\n",
        "nltk.download('brown')\n",
        "nltk.download('wordnet')\n",
        "from nltk.corpus import wordnet as wn\n",
        "from nltk.tokenize import sent_tokenize\n",
        "\n",
        "def postprocesstext (content):\n",
        "  final=\"\"\n",
        "  for sent in sent_tokenize(content):\n",
        "    sent = sent.capitalize()\n",
        "    final = final +\" \"+sent\n",
        "  return final\n",
        "\n",
        "\n",
        "def summarizer(text,model,tokenizer):\n",
        "  text = text.strip().replace(\"\\n\",\" \")\n",
        "  text = \"summarize: \"+text\n",
        "  # print (text)\n",
        "  max_len = 512\n",
        "  encoding = tokenizer.encode_plus(text,max_length=max_len, pad_to_max_length=False,truncation=True, return_tensors=\"pt\").to(device)\n",
        "\n",
        "  input_ids, attention_mask = encoding[\"input_ids\"], encoding[\"attention_mask\"]\n",
        "\n",
        "  outs = model.generate(input_ids=input_ids,\n",
        "                                  attention_mask=attention_mask,\n",
        "                                  early_stopping=True,\n",
        "                                  num_beams=3,\n",
        "                                  num_return_sequences=1,\n",
        "                                  no_repeat_ngram_size=2,\n",
        "                                  min_length = 75,\n",
        "                                  max_length=300)\n",
        "\n",
        "\n",
        "  dec = [tokenizer.decode(ids,skip_special_tokens=True) for ids in outs]\n",
        "  summary = dec[0]\n",
        "  summary = postprocesstext(summary)\n",
        "  summary= summary.strip()\n",
        "\n",
        "  return summary\n",
        "\n",
        "\n",
        "summarized_text = summarizer(text,summary_model,summary_tokenizer)\n",
        "\n",
        "\n",
        "print (\"\\noriginal Text >>\")\n",
        "for wrp in wrap(text, 150):\n",
        "  print (wrp)\n",
        "print (\"\\n\")\n",
        "print (\"Summarized Text >>\")\n",
        "for wrp in wrap(summarized_text, 150):\n",
        "  print (wrp)\n",
        "print (\"\\n\")"
      ]
    },
    {
      "cell_type": "markdown",
      "source": [
        "### We Can clearly Observe that the Orginal Article Size was 10-15 lines now  it is Summarised to 4 lines that to including all Context"
      ],
      "metadata": {
        "id": "54f14a5f"
      },
      "id": "54f14a5f"
    },
    {
      "cell_type": "markdown",
      "source": [
        "**Lets Try Sample 2**"
      ],
      "metadata": {
        "id": "dd8Lz4IgJ-0d"
      },
      "id": "dd8Lz4IgJ-0d"
    },
    {
      "cell_type": "code",
      "source": [
        "text = \"\"\"Nestled in the southern part of India, Bangalore stands as a dynamic and multifaceted city that has captivated the nation and the world alike.\n",
        "Fondly known as the \"Garden City of India,\" Bangalore's lush greenery, pleasant climate, and diverse culture offer a striking contrast to its bustling technological advancements.\n",
        "At the heart of Bangalore's allure lies its status as the \"Silicon Valley of India.\" The city's booming IT sector has earned it global recognition as a tech innovation hub.\n",
        "With its towering glass buildings and modern infrastructure, Bangalore showcases India's prowess in software development and cutting-edge technologies. Countless startups,\n",
        "global corporations, and research institutions have found their home within its limits, making it a thriving center of creativity and invention.\n",
        "But Bangalore's appeal extends far beyond its technological achievements. The city's historical legacy is visible in its architectural marvels such as the Bangalore Palace,\n",
        "which offers a glimpse into its royal past. The renowned Lalbagh Botanical Garden stands as a testament to the city's commitment to preserving nature amid urbanization.\n",
        "Bangalore's educational institutions are equally celebrated, housing some of the country's most prestigious universities and research centers.\n",
        "Culturally, Bangalore is a melting pot, where traditions blend harmoniously with contemporary lifestyles. The city's diverse population contributes to its rich tapestry of\n",
        "languages, cuisine, festivals, and art forms. Whether it's enjoying a traditional South Indian meal at a local eatery or attending a global music festival, Bangalore's cultural\n",
        " experiences are as vibrant as they are varied.In essence, Bangalore exemplifies the harmonious coexistence of tradition and innovation. As India's tech capital,\n",
        " it propels the nation forward in the digital age, while its cultural heritage reminds us of the importance of preserving history and embracing diversity. Bangalore's allure lies in its ability to encapsulate the best of both worlds, making it a city that continues to capture hearts and imaginations.\n",
        "\n",
        " \"\"\"\n",
        "for wrp in wrap(text, 150):\n",
        "  print (wrp)\n",
        "print (\"\\n\")"
      ],
      "metadata": {
        "colab": {
          "base_uri": "https://localhost:8080/"
        },
        "id": "9EhcoTJiKHum",
        "outputId": "91f3fb94-d5da-48a8-9354-5f49d26f6726"
      },
      "id": "9EhcoTJiKHum",
      "execution_count": 21,
      "outputs": [
        {
          "output_type": "stream",
          "name": "stdout",
          "text": [
            "Nestled in the southern part of India, Bangalore stands as a dynamic and multifaceted city that has captivated the nation and the world alike.  Fondly\n",
            "known as the \"Garden City of India,\" Bangalore's lush greenery, pleasant climate, and diverse culture offer a striking contrast to its bustling\n",
            "technological advancements. At the heart of Bangalore's allure lies its status as the \"Silicon Valley of India.\" The city's booming IT sector has\n",
            "earned it global recognition as a tech innovation hub.  With its towering glass buildings and modern infrastructure, Bangalore showcases India's\n",
            "prowess in software development and cutting-edge technologies. Countless startups,  global corporations, and research institutions have found their\n",
            "home within its limits, making it a thriving center of creativity and invention. But Bangalore's appeal extends far beyond its technological\n",
            "achievements. The city's historical legacy is visible in its architectural marvels such as the Bangalore Palace,  which offers a glimpse into its\n",
            "royal past. The renowned Lalbagh Botanical Garden stands as a testament to the city's commitment to preserving nature amid urbanization.  Bangalore's\n",
            "educational institutions are equally celebrated, housing some of the country's most prestigious universities and research centers. Culturally,\n",
            "Bangalore is a melting pot, where traditions blend harmoniously with contemporary lifestyles. The city's diverse population contributes to its rich\n",
            "tapestry of languages, cuisine, festivals, and art forms. Whether it's enjoying a traditional South Indian meal at a local eatery or attending a\n",
            "global music festival, Bangalore's cultural  experiences are as vibrant as they are varied.In essence, Bangalore exemplifies the harmonious\n",
            "coexistence of tradition and innovation. As India's tech capital,   it propels the nation forward in the digital age, while its cultural heritage\n",
            "reminds us of the importance of preserving history and embracing diversity. Bangalore's allure lies in its ability to encapsulate the best of both\n",
            "worlds, making it a city that continues to capture hearts and imaginations.\n",
            "\n",
            "\n",
            "time: 8.06 ms (started: 2023-08-29 02:47:42 +00:00)\n"
          ]
        }
      ]
    },
    {
      "cell_type": "markdown",
      "source": [],
      "metadata": {
        "id": "3RGo7YPlMNZj"
      },
      "id": "3RGo7YPlMNZj"
    },
    {
      "cell_type": "code",
      "source": [
        "# import nltk\n",
        "# nltk.download('punkt')\n",
        "# nltk.download('brown')\n",
        "# nltk.download('wordnet')\n",
        "# from nltk.corpus import wordnet as wn\n",
        "# from nltk.tokenize import sent_tokenize\n",
        "\n",
        "def postprocesstext (content):\n",
        "  final=\"\"\n",
        "  for sent in sent_tokenize(content):\n",
        "    sent = sent.capitalize()\n",
        "    final = final +\" \"+sent\n",
        "  return final\n",
        "\n",
        "\n",
        "def summarizer(text,model,tokenizer):\n",
        "  text = text.strip().replace(\"\\n\",\" \")\n",
        "  text = \"summarize: \"+text\n",
        "  # print (text)\n",
        "  max_len = 512\n",
        "  encoding = tokenizer.encode_plus(text,max_length=max_len, pad_to_max_length=False,truncation=True, return_tensors=\"pt\").to(device)\n",
        "\n",
        "  input_ids, attention_mask = encoding[\"input_ids\"], encoding[\"attention_mask\"]\n",
        "\n",
        "  outs = model.generate(input_ids=input_ids,\n",
        "                                  attention_mask=attention_mask,\n",
        "                                  early_stopping=True,\n",
        "                                  num_beams=3,\n",
        "                                  num_return_sequences=1,\n",
        "                                  no_repeat_ngram_size=2,\n",
        "                                  min_length = 75,\n",
        "                                  max_length=300)\n",
        "\n",
        "\n",
        "  dec = [tokenizer.decode(ids,skip_special_tokens=True) for ids in outs]\n",
        "  summary = dec[0]\n",
        "  summary = postprocesstext(summary)\n",
        "  summary= summary.strip()\n",
        "\n",
        "  return summary\n",
        "\n",
        "\n",
        "summarized_text = summarizer(text,summary_model,summary_tokenizer)\n",
        "\n",
        "\n",
        "print (\"\\noriginal Text >>\")\n",
        "for wrp in wrap(text, 150):\n",
        "  print (wrp)\n",
        "print (\"\\n\")\n",
        "print (\"Summarized Text >>\")\n",
        "for wrp in wrap(summarized_text, 150):\n",
        "  print (wrp)\n",
        "print (\"\\n\")"
      ],
      "metadata": {
        "colab": {
          "base_uri": "https://localhost:8080/"
        },
        "id": "cNQCQsW6LH7V",
        "outputId": "a0055374-85a3-41c8-831b-b06b69afdf19"
      },
      "id": "cNQCQsW6LH7V",
      "execution_count": 22,
      "outputs": [
        {
          "output_type": "stream",
          "name": "stdout",
          "text": [
            "\n",
            "original Text >>\n",
            "Nestled in the southern part of India, Bangalore stands as a dynamic and multifaceted city that has captivated the nation and the world alike.  Fondly\n",
            "known as the \"Garden City of India,\" Bangalore's lush greenery, pleasant climate, and diverse culture offer a striking contrast to its bustling\n",
            "technological advancements. At the heart of Bangalore's allure lies its status as the \"Silicon Valley of India.\" The city's booming IT sector has\n",
            "earned it global recognition as a tech innovation hub.  With its towering glass buildings and modern infrastructure, Bangalore showcases India's\n",
            "prowess in software development and cutting-edge technologies. Countless startups,  global corporations, and research institutions have found their\n",
            "home within its limits, making it a thriving center of creativity and invention. But Bangalore's appeal extends far beyond its technological\n",
            "achievements. The city's historical legacy is visible in its architectural marvels such as the Bangalore Palace,  which offers a glimpse into its\n",
            "royal past. The renowned Lalbagh Botanical Garden stands as a testament to the city's commitment to preserving nature amid urbanization.  Bangalore's\n",
            "educational institutions are equally celebrated, housing some of the country's most prestigious universities and research centers. Culturally,\n",
            "Bangalore is a melting pot, where traditions blend harmoniously with contemporary lifestyles. The city's diverse population contributes to its rich\n",
            "tapestry of languages, cuisine, festivals, and art forms. Whether it's enjoying a traditional South Indian meal at a local eatery or attending a\n",
            "global music festival, Bangalore's cultural  experiences are as vibrant as they are varied.In essence, Bangalore exemplifies the harmonious\n",
            "coexistence of tradition and innovation. As India's tech capital,   it propels the nation forward in the digital age, while its cultural heritage\n",
            "reminds us of the importance of preserving history and embracing diversity. Bangalore's allure lies in its ability to encapsulate the best of both\n",
            "worlds, making it a city that continues to capture hearts and imaginations.\n",
            "\n",
            "\n",
            "Summarized Text >>\n",
            "Fondly known as the \"garden city of india,\" bangalore has captivated the nation and the world alike. The city's booming it sector has earned it global\n",
            "recognition as a tech innovation hub. Its cultural experiences are as vibrant as they are varied. It is an example of the harmonious coexistence of\n",
            "tradition and innovation, says naomi gupta.\n",
            "\n",
            "\n",
            "time: 23.2 s (started: 2023-08-29 02:48:28 +00:00)\n"
          ]
        }
      ]
    },
    {
      "cell_type": "markdown",
      "source": [
        "# Enhancements and Future Scope\n",
        "\n",
        "1. **Evaluation Metrics:** Implement metrics like ROUGE to quantitatively evaluate the quality of generated summaries.\n",
        "2. **Abstractive Summarization:** Experiment with abstractive summarization approaches to create more human-like summaries.\n",
        "3. **Fine-Tuning:** Fine-tune the T5 model on specific datasets to improve summarization performance for domain-specific texts.\n",
        "4. **Interactive UI:** Create an interactive user interface for users to input text and get instant summaries.\n",
        "5. **Multilingual Support:** Extend the project to support summarization in multiple languages."
      ],
      "metadata": {
        "id": "7qb_ytQ3QidR"
      },
      "id": "7qb_ytQ3QidR"
    },
    {
      "cell_type": "markdown",
      "source": [
        "___________________________\n",
        "# **THANK YOU**\n",
        "__________________________"
      ],
      "metadata": {
        "id": "B0NmL7o0MNUe"
      },
      "id": "B0NmL7o0MNUe"
    }
  ],
  "metadata": {
    "kernelspec": {
      "display_name": "Python 3 (ipykernel)",
      "language": "python",
      "name": "python3"
    },
    "language_info": {
      "codemirror_mode": {
        "name": "ipython",
        "version": 3
      },
      "file_extension": ".py",
      "mimetype": "text/x-python",
      "name": "python",
      "nbconvert_exporter": "python",
      "pygments_lexer": "ipython3",
      "version": "3.9.12"
    },
    "colab": {
      "provenance": [],
      "include_colab_link": true
    },
    "widgets": {
      "application/vnd.jupyter.widget-state+json": {
        "80d823a081ae4d9cb723b93953e400b9": {
          "model_module": "@jupyter-widgets/controls",
          "model_name": "HBoxModel",
          "model_module_version": "1.5.0",
          "state": {
            "_dom_classes": [],
            "_model_module": "@jupyter-widgets/controls",
            "_model_module_version": "1.5.0",
            "_model_name": "HBoxModel",
            "_view_count": null,
            "_view_module": "@jupyter-widgets/controls",
            "_view_module_version": "1.5.0",
            "_view_name": "HBoxView",
            "box_style": "",
            "children": [
              "IPY_MODEL_be27094363c942509518b5bc49779292",
              "IPY_MODEL_4b6ef08c1442419db83f5c961e605f90",
              "IPY_MODEL_faf75e8917e14aed9c7848d1a1561f35"
            ],
            "layout": "IPY_MODEL_b815cc90115e41a485258dff72bf2fa7"
          }
        },
        "be27094363c942509518b5bc49779292": {
          "model_module": "@jupyter-widgets/controls",
          "model_name": "HTMLModel",
          "model_module_version": "1.5.0",
          "state": {
            "_dom_classes": [],
            "_model_module": "@jupyter-widgets/controls",
            "_model_module_version": "1.5.0",
            "_model_name": "HTMLModel",
            "_view_count": null,
            "_view_module": "@jupyter-widgets/controls",
            "_view_module_version": "1.5.0",
            "_view_name": "HTMLView",
            "description": "",
            "description_tooltip": null,
            "layout": "IPY_MODEL_dae4f628821f4cfa9d5deb89580a7f89",
            "placeholder": "​",
            "style": "IPY_MODEL_753c80a3220f4780909d8b5d2e361b31",
            "value": "Downloading (…)lve/main/config.json: 100%"
          }
        },
        "4b6ef08c1442419db83f5c961e605f90": {
          "model_module": "@jupyter-widgets/controls",
          "model_name": "FloatProgressModel",
          "model_module_version": "1.5.0",
          "state": {
            "_dom_classes": [],
            "_model_module": "@jupyter-widgets/controls",
            "_model_module_version": "1.5.0",
            "_model_name": "FloatProgressModel",
            "_view_count": null,
            "_view_module": "@jupyter-widgets/controls",
            "_view_module_version": "1.5.0",
            "_view_name": "ProgressView",
            "bar_style": "success",
            "description": "",
            "description_tooltip": null,
            "layout": "IPY_MODEL_dfb7520a2ffa48be95f52fafc1c3b485",
            "max": 1208,
            "min": 0,
            "orientation": "horizontal",
            "style": "IPY_MODEL_804b1f526a6448838e2230d08cde115d",
            "value": 1208
          }
        },
        "faf75e8917e14aed9c7848d1a1561f35": {
          "model_module": "@jupyter-widgets/controls",
          "model_name": "HTMLModel",
          "model_module_version": "1.5.0",
          "state": {
            "_dom_classes": [],
            "_model_module": "@jupyter-widgets/controls",
            "_model_module_version": "1.5.0",
            "_model_name": "HTMLModel",
            "_view_count": null,
            "_view_module": "@jupyter-widgets/controls",
            "_view_module_version": "1.5.0",
            "_view_name": "HTMLView",
            "description": "",
            "description_tooltip": null,
            "layout": "IPY_MODEL_17dbe082b12d4c3fbb61b10c9f1c942c",
            "placeholder": "​",
            "style": "IPY_MODEL_0b616949c13c4298a1f7409c69368574",
            "value": " 1.21k/1.21k [00:00&lt;00:00, 31.4kB/s]"
          }
        },
        "b815cc90115e41a485258dff72bf2fa7": {
          "model_module": "@jupyter-widgets/base",
          "model_name": "LayoutModel",
          "model_module_version": "1.2.0",
          "state": {
            "_model_module": "@jupyter-widgets/base",
            "_model_module_version": "1.2.0",
            "_model_name": "LayoutModel",
            "_view_count": null,
            "_view_module": "@jupyter-widgets/base",
            "_view_module_version": "1.2.0",
            "_view_name": "LayoutView",
            "align_content": null,
            "align_items": null,
            "align_self": null,
            "border": null,
            "bottom": null,
            "display": null,
            "flex": null,
            "flex_flow": null,
            "grid_area": null,
            "grid_auto_columns": null,
            "grid_auto_flow": null,
            "grid_auto_rows": null,
            "grid_column": null,
            "grid_gap": null,
            "grid_row": null,
            "grid_template_areas": null,
            "grid_template_columns": null,
            "grid_template_rows": null,
            "height": null,
            "justify_content": null,
            "justify_items": null,
            "left": null,
            "margin": null,
            "max_height": null,
            "max_width": null,
            "min_height": null,
            "min_width": null,
            "object_fit": null,
            "object_position": null,
            "order": null,
            "overflow": null,
            "overflow_x": null,
            "overflow_y": null,
            "padding": null,
            "right": null,
            "top": null,
            "visibility": null,
            "width": null
          }
        },
        "dae4f628821f4cfa9d5deb89580a7f89": {
          "model_module": "@jupyter-widgets/base",
          "model_name": "LayoutModel",
          "model_module_version": "1.2.0",
          "state": {
            "_model_module": "@jupyter-widgets/base",
            "_model_module_version": "1.2.0",
            "_model_name": "LayoutModel",
            "_view_count": null,
            "_view_module": "@jupyter-widgets/base",
            "_view_module_version": "1.2.0",
            "_view_name": "LayoutView",
            "align_content": null,
            "align_items": null,
            "align_self": null,
            "border": null,
            "bottom": null,
            "display": null,
            "flex": null,
            "flex_flow": null,
            "grid_area": null,
            "grid_auto_columns": null,
            "grid_auto_flow": null,
            "grid_auto_rows": null,
            "grid_column": null,
            "grid_gap": null,
            "grid_row": null,
            "grid_template_areas": null,
            "grid_template_columns": null,
            "grid_template_rows": null,
            "height": null,
            "justify_content": null,
            "justify_items": null,
            "left": null,
            "margin": null,
            "max_height": null,
            "max_width": null,
            "min_height": null,
            "min_width": null,
            "object_fit": null,
            "object_position": null,
            "order": null,
            "overflow": null,
            "overflow_x": null,
            "overflow_y": null,
            "padding": null,
            "right": null,
            "top": null,
            "visibility": null,
            "width": null
          }
        },
        "753c80a3220f4780909d8b5d2e361b31": {
          "model_module": "@jupyter-widgets/controls",
          "model_name": "DescriptionStyleModel",
          "model_module_version": "1.5.0",
          "state": {
            "_model_module": "@jupyter-widgets/controls",
            "_model_module_version": "1.5.0",
            "_model_name": "DescriptionStyleModel",
            "_view_count": null,
            "_view_module": "@jupyter-widgets/base",
            "_view_module_version": "1.2.0",
            "_view_name": "StyleView",
            "description_width": ""
          }
        },
        "dfb7520a2ffa48be95f52fafc1c3b485": {
          "model_module": "@jupyter-widgets/base",
          "model_name": "LayoutModel",
          "model_module_version": "1.2.0",
          "state": {
            "_model_module": "@jupyter-widgets/base",
            "_model_module_version": "1.2.0",
            "_model_name": "LayoutModel",
            "_view_count": null,
            "_view_module": "@jupyter-widgets/base",
            "_view_module_version": "1.2.0",
            "_view_name": "LayoutView",
            "align_content": null,
            "align_items": null,
            "align_self": null,
            "border": null,
            "bottom": null,
            "display": null,
            "flex": null,
            "flex_flow": null,
            "grid_area": null,
            "grid_auto_columns": null,
            "grid_auto_flow": null,
            "grid_auto_rows": null,
            "grid_column": null,
            "grid_gap": null,
            "grid_row": null,
            "grid_template_areas": null,
            "grid_template_columns": null,
            "grid_template_rows": null,
            "height": null,
            "justify_content": null,
            "justify_items": null,
            "left": null,
            "margin": null,
            "max_height": null,
            "max_width": null,
            "min_height": null,
            "min_width": null,
            "object_fit": null,
            "object_position": null,
            "order": null,
            "overflow": null,
            "overflow_x": null,
            "overflow_y": null,
            "padding": null,
            "right": null,
            "top": null,
            "visibility": null,
            "width": null
          }
        },
        "804b1f526a6448838e2230d08cde115d": {
          "model_module": "@jupyter-widgets/controls",
          "model_name": "ProgressStyleModel",
          "model_module_version": "1.5.0",
          "state": {
            "_model_module": "@jupyter-widgets/controls",
            "_model_module_version": "1.5.0",
            "_model_name": "ProgressStyleModel",
            "_view_count": null,
            "_view_module": "@jupyter-widgets/base",
            "_view_module_version": "1.2.0",
            "_view_name": "StyleView",
            "bar_color": null,
            "description_width": ""
          }
        },
        "17dbe082b12d4c3fbb61b10c9f1c942c": {
          "model_module": "@jupyter-widgets/base",
          "model_name": "LayoutModel",
          "model_module_version": "1.2.0",
          "state": {
            "_model_module": "@jupyter-widgets/base",
            "_model_module_version": "1.2.0",
            "_model_name": "LayoutModel",
            "_view_count": null,
            "_view_module": "@jupyter-widgets/base",
            "_view_module_version": "1.2.0",
            "_view_name": "LayoutView",
            "align_content": null,
            "align_items": null,
            "align_self": null,
            "border": null,
            "bottom": null,
            "display": null,
            "flex": null,
            "flex_flow": null,
            "grid_area": null,
            "grid_auto_columns": null,
            "grid_auto_flow": null,
            "grid_auto_rows": null,
            "grid_column": null,
            "grid_gap": null,
            "grid_row": null,
            "grid_template_areas": null,
            "grid_template_columns": null,
            "grid_template_rows": null,
            "height": null,
            "justify_content": null,
            "justify_items": null,
            "left": null,
            "margin": null,
            "max_height": null,
            "max_width": null,
            "min_height": null,
            "min_width": null,
            "object_fit": null,
            "object_position": null,
            "order": null,
            "overflow": null,
            "overflow_x": null,
            "overflow_y": null,
            "padding": null,
            "right": null,
            "top": null,
            "visibility": null,
            "width": null
          }
        },
        "0b616949c13c4298a1f7409c69368574": {
          "model_module": "@jupyter-widgets/controls",
          "model_name": "DescriptionStyleModel",
          "model_module_version": "1.5.0",
          "state": {
            "_model_module": "@jupyter-widgets/controls",
            "_model_module_version": "1.5.0",
            "_model_name": "DescriptionStyleModel",
            "_view_count": null,
            "_view_module": "@jupyter-widgets/base",
            "_view_module_version": "1.2.0",
            "_view_name": "StyleView",
            "description_width": ""
          }
        },
        "c752840e2c144e4a8414b9b713c689b1": {
          "model_module": "@jupyter-widgets/controls",
          "model_name": "HBoxModel",
          "model_module_version": "1.5.0",
          "state": {
            "_dom_classes": [],
            "_model_module": "@jupyter-widgets/controls",
            "_model_module_version": "1.5.0",
            "_model_name": "HBoxModel",
            "_view_count": null,
            "_view_module": "@jupyter-widgets/controls",
            "_view_module_version": "1.5.0",
            "_view_name": "HBoxView",
            "box_style": "",
            "children": [
              "IPY_MODEL_525f2fdc8afb43e8925c77f7038014ba",
              "IPY_MODEL_0b783a046a224dfc8811de911409a74b",
              "IPY_MODEL_206ec78033bc4511906e55e98196af58"
            ],
            "layout": "IPY_MODEL_7f7b94d51a9c44b99b54dc008a074f1c"
          }
        },
        "525f2fdc8afb43e8925c77f7038014ba": {
          "model_module": "@jupyter-widgets/controls",
          "model_name": "HTMLModel",
          "model_module_version": "1.5.0",
          "state": {
            "_dom_classes": [],
            "_model_module": "@jupyter-widgets/controls",
            "_model_module_version": "1.5.0",
            "_model_name": "HTMLModel",
            "_view_count": null,
            "_view_module": "@jupyter-widgets/controls",
            "_view_module_version": "1.5.0",
            "_view_name": "HTMLView",
            "description": "",
            "description_tooltip": null,
            "layout": "IPY_MODEL_3b8254192d284e39a33d8644aed364c7",
            "placeholder": "​",
            "style": "IPY_MODEL_2396b7857d64475b95901b5207de740f",
            "value": "Downloading model.safetensors: 100%"
          }
        },
        "0b783a046a224dfc8811de911409a74b": {
          "model_module": "@jupyter-widgets/controls",
          "model_name": "FloatProgressModel",
          "model_module_version": "1.5.0",
          "state": {
            "_dom_classes": [],
            "_model_module": "@jupyter-widgets/controls",
            "_model_module_version": "1.5.0",
            "_model_name": "FloatProgressModel",
            "_view_count": null,
            "_view_module": "@jupyter-widgets/controls",
            "_view_module_version": "1.5.0",
            "_view_name": "ProgressView",
            "bar_style": "success",
            "description": "",
            "description_tooltip": null,
            "layout": "IPY_MODEL_bd11dbc3886049139eb59b634f9a53df",
            "max": 891646390,
            "min": 0,
            "orientation": "horizontal",
            "style": "IPY_MODEL_f8f08443b43b48b3b6a4173e02092d95",
            "value": 891646390
          }
        },
        "206ec78033bc4511906e55e98196af58": {
          "model_module": "@jupyter-widgets/controls",
          "model_name": "HTMLModel",
          "model_module_version": "1.5.0",
          "state": {
            "_dom_classes": [],
            "_model_module": "@jupyter-widgets/controls",
            "_model_module_version": "1.5.0",
            "_model_name": "HTMLModel",
            "_view_count": null,
            "_view_module": "@jupyter-widgets/controls",
            "_view_module_version": "1.5.0",
            "_view_name": "HTMLView",
            "description": "",
            "description_tooltip": null,
            "layout": "IPY_MODEL_141878adcf11434bbdf20b28a5db83ab",
            "placeholder": "​",
            "style": "IPY_MODEL_9e9e9952241f4c3bb83cd80344a9aa12",
            "value": " 892M/892M [00:11&lt;00:00, 57.6MB/s]"
          }
        },
        "7f7b94d51a9c44b99b54dc008a074f1c": {
          "model_module": "@jupyter-widgets/base",
          "model_name": "LayoutModel",
          "model_module_version": "1.2.0",
          "state": {
            "_model_module": "@jupyter-widgets/base",
            "_model_module_version": "1.2.0",
            "_model_name": "LayoutModel",
            "_view_count": null,
            "_view_module": "@jupyter-widgets/base",
            "_view_module_version": "1.2.0",
            "_view_name": "LayoutView",
            "align_content": null,
            "align_items": null,
            "align_self": null,
            "border": null,
            "bottom": null,
            "display": null,
            "flex": null,
            "flex_flow": null,
            "grid_area": null,
            "grid_auto_columns": null,
            "grid_auto_flow": null,
            "grid_auto_rows": null,
            "grid_column": null,
            "grid_gap": null,
            "grid_row": null,
            "grid_template_areas": null,
            "grid_template_columns": null,
            "grid_template_rows": null,
            "height": null,
            "justify_content": null,
            "justify_items": null,
            "left": null,
            "margin": null,
            "max_height": null,
            "max_width": null,
            "min_height": null,
            "min_width": null,
            "object_fit": null,
            "object_position": null,
            "order": null,
            "overflow": null,
            "overflow_x": null,
            "overflow_y": null,
            "padding": null,
            "right": null,
            "top": null,
            "visibility": null,
            "width": null
          }
        },
        "3b8254192d284e39a33d8644aed364c7": {
          "model_module": "@jupyter-widgets/base",
          "model_name": "LayoutModel",
          "model_module_version": "1.2.0",
          "state": {
            "_model_module": "@jupyter-widgets/base",
            "_model_module_version": "1.2.0",
            "_model_name": "LayoutModel",
            "_view_count": null,
            "_view_module": "@jupyter-widgets/base",
            "_view_module_version": "1.2.0",
            "_view_name": "LayoutView",
            "align_content": null,
            "align_items": null,
            "align_self": null,
            "border": null,
            "bottom": null,
            "display": null,
            "flex": null,
            "flex_flow": null,
            "grid_area": null,
            "grid_auto_columns": null,
            "grid_auto_flow": null,
            "grid_auto_rows": null,
            "grid_column": null,
            "grid_gap": null,
            "grid_row": null,
            "grid_template_areas": null,
            "grid_template_columns": null,
            "grid_template_rows": null,
            "height": null,
            "justify_content": null,
            "justify_items": null,
            "left": null,
            "margin": null,
            "max_height": null,
            "max_width": null,
            "min_height": null,
            "min_width": null,
            "object_fit": null,
            "object_position": null,
            "order": null,
            "overflow": null,
            "overflow_x": null,
            "overflow_y": null,
            "padding": null,
            "right": null,
            "top": null,
            "visibility": null,
            "width": null
          }
        },
        "2396b7857d64475b95901b5207de740f": {
          "model_module": "@jupyter-widgets/controls",
          "model_name": "DescriptionStyleModel",
          "model_module_version": "1.5.0",
          "state": {
            "_model_module": "@jupyter-widgets/controls",
            "_model_module_version": "1.5.0",
            "_model_name": "DescriptionStyleModel",
            "_view_count": null,
            "_view_module": "@jupyter-widgets/base",
            "_view_module_version": "1.2.0",
            "_view_name": "StyleView",
            "description_width": ""
          }
        },
        "bd11dbc3886049139eb59b634f9a53df": {
          "model_module": "@jupyter-widgets/base",
          "model_name": "LayoutModel",
          "model_module_version": "1.2.0",
          "state": {
            "_model_module": "@jupyter-widgets/base",
            "_model_module_version": "1.2.0",
            "_model_name": "LayoutModel",
            "_view_count": null,
            "_view_module": "@jupyter-widgets/base",
            "_view_module_version": "1.2.0",
            "_view_name": "LayoutView",
            "align_content": null,
            "align_items": null,
            "align_self": null,
            "border": null,
            "bottom": null,
            "display": null,
            "flex": null,
            "flex_flow": null,
            "grid_area": null,
            "grid_auto_columns": null,
            "grid_auto_flow": null,
            "grid_auto_rows": null,
            "grid_column": null,
            "grid_gap": null,
            "grid_row": null,
            "grid_template_areas": null,
            "grid_template_columns": null,
            "grid_template_rows": null,
            "height": null,
            "justify_content": null,
            "justify_items": null,
            "left": null,
            "margin": null,
            "max_height": null,
            "max_width": null,
            "min_height": null,
            "min_width": null,
            "object_fit": null,
            "object_position": null,
            "order": null,
            "overflow": null,
            "overflow_x": null,
            "overflow_y": null,
            "padding": null,
            "right": null,
            "top": null,
            "visibility": null,
            "width": null
          }
        },
        "f8f08443b43b48b3b6a4173e02092d95": {
          "model_module": "@jupyter-widgets/controls",
          "model_name": "ProgressStyleModel",
          "model_module_version": "1.5.0",
          "state": {
            "_model_module": "@jupyter-widgets/controls",
            "_model_module_version": "1.5.0",
            "_model_name": "ProgressStyleModel",
            "_view_count": null,
            "_view_module": "@jupyter-widgets/base",
            "_view_module_version": "1.2.0",
            "_view_name": "StyleView",
            "bar_color": null,
            "description_width": ""
          }
        },
        "141878adcf11434bbdf20b28a5db83ab": {
          "model_module": "@jupyter-widgets/base",
          "model_name": "LayoutModel",
          "model_module_version": "1.2.0",
          "state": {
            "_model_module": "@jupyter-widgets/base",
            "_model_module_version": "1.2.0",
            "_model_name": "LayoutModel",
            "_view_count": null,
            "_view_module": "@jupyter-widgets/base",
            "_view_module_version": "1.2.0",
            "_view_name": "LayoutView",
            "align_content": null,
            "align_items": null,
            "align_self": null,
            "border": null,
            "bottom": null,
            "display": null,
            "flex": null,
            "flex_flow": null,
            "grid_area": null,
            "grid_auto_columns": null,
            "grid_auto_flow": null,
            "grid_auto_rows": null,
            "grid_column": null,
            "grid_gap": null,
            "grid_row": null,
            "grid_template_areas": null,
            "grid_template_columns": null,
            "grid_template_rows": null,
            "height": null,
            "justify_content": null,
            "justify_items": null,
            "left": null,
            "margin": null,
            "max_height": null,
            "max_width": null,
            "min_height": null,
            "min_width": null,
            "object_fit": null,
            "object_position": null,
            "order": null,
            "overflow": null,
            "overflow_x": null,
            "overflow_y": null,
            "padding": null,
            "right": null,
            "top": null,
            "visibility": null,
            "width": null
          }
        },
        "9e9e9952241f4c3bb83cd80344a9aa12": {
          "model_module": "@jupyter-widgets/controls",
          "model_name": "DescriptionStyleModel",
          "model_module_version": "1.5.0",
          "state": {
            "_model_module": "@jupyter-widgets/controls",
            "_model_module_version": "1.5.0",
            "_model_name": "DescriptionStyleModel",
            "_view_count": null,
            "_view_module": "@jupyter-widgets/base",
            "_view_module_version": "1.2.0",
            "_view_name": "StyleView",
            "description_width": ""
          }
        },
        "27158fab5eab4e689ff5d276c3f3663c": {
          "model_module": "@jupyter-widgets/controls",
          "model_name": "HBoxModel",
          "model_module_version": "1.5.0",
          "state": {
            "_dom_classes": [],
            "_model_module": "@jupyter-widgets/controls",
            "_model_module_version": "1.5.0",
            "_model_name": "HBoxModel",
            "_view_count": null,
            "_view_module": "@jupyter-widgets/controls",
            "_view_module_version": "1.5.0",
            "_view_name": "HBoxView",
            "box_style": "",
            "children": [
              "IPY_MODEL_083aaa01a5c2416fa27e8394dc268eda",
              "IPY_MODEL_23651fd4ed9a438192383bea7094ce62",
              "IPY_MODEL_7b582184d5ed49428958aef2497e5b79"
            ],
            "layout": "IPY_MODEL_11e0e34c72ca4c2f8e23f24775375957"
          }
        },
        "083aaa01a5c2416fa27e8394dc268eda": {
          "model_module": "@jupyter-widgets/controls",
          "model_name": "HTMLModel",
          "model_module_version": "1.5.0",
          "state": {
            "_dom_classes": [],
            "_model_module": "@jupyter-widgets/controls",
            "_model_module_version": "1.5.0",
            "_model_name": "HTMLModel",
            "_view_count": null,
            "_view_module": "@jupyter-widgets/controls",
            "_view_module_version": "1.5.0",
            "_view_name": "HTMLView",
            "description": "",
            "description_tooltip": null,
            "layout": "IPY_MODEL_d281b297da1a4375bb55a79ac0a631c7",
            "placeholder": "​",
            "style": "IPY_MODEL_a97b203cc1c9485f9a1f689fa7e488f4",
            "value": "Downloading (…)neration_config.json: 100%"
          }
        },
        "23651fd4ed9a438192383bea7094ce62": {
          "model_module": "@jupyter-widgets/controls",
          "model_name": "FloatProgressModel",
          "model_module_version": "1.5.0",
          "state": {
            "_dom_classes": [],
            "_model_module": "@jupyter-widgets/controls",
            "_model_module_version": "1.5.0",
            "_model_name": "FloatProgressModel",
            "_view_count": null,
            "_view_module": "@jupyter-widgets/controls",
            "_view_module_version": "1.5.0",
            "_view_name": "ProgressView",
            "bar_style": "success",
            "description": "",
            "description_tooltip": null,
            "layout": "IPY_MODEL_fde3de65f9e3466dbe7f1c533ced04e5",
            "max": 147,
            "min": 0,
            "orientation": "horizontal",
            "style": "IPY_MODEL_183601de8dd64359a6c87d95fbc5dec2",
            "value": 147
          }
        },
        "7b582184d5ed49428958aef2497e5b79": {
          "model_module": "@jupyter-widgets/controls",
          "model_name": "HTMLModel",
          "model_module_version": "1.5.0",
          "state": {
            "_dom_classes": [],
            "_model_module": "@jupyter-widgets/controls",
            "_model_module_version": "1.5.0",
            "_model_name": "HTMLModel",
            "_view_count": null,
            "_view_module": "@jupyter-widgets/controls",
            "_view_module_version": "1.5.0",
            "_view_name": "HTMLView",
            "description": "",
            "description_tooltip": null,
            "layout": "IPY_MODEL_076ea0a7f1b747c7908faa720c1f74c3",
            "placeholder": "​",
            "style": "IPY_MODEL_86c002c4475d4663905ebbcf542298bf",
            "value": " 147/147 [00:00&lt;00:00, 7.08kB/s]"
          }
        },
        "11e0e34c72ca4c2f8e23f24775375957": {
          "model_module": "@jupyter-widgets/base",
          "model_name": "LayoutModel",
          "model_module_version": "1.2.0",
          "state": {
            "_model_module": "@jupyter-widgets/base",
            "_model_module_version": "1.2.0",
            "_model_name": "LayoutModel",
            "_view_count": null,
            "_view_module": "@jupyter-widgets/base",
            "_view_module_version": "1.2.0",
            "_view_name": "LayoutView",
            "align_content": null,
            "align_items": null,
            "align_self": null,
            "border": null,
            "bottom": null,
            "display": null,
            "flex": null,
            "flex_flow": null,
            "grid_area": null,
            "grid_auto_columns": null,
            "grid_auto_flow": null,
            "grid_auto_rows": null,
            "grid_column": null,
            "grid_gap": null,
            "grid_row": null,
            "grid_template_areas": null,
            "grid_template_columns": null,
            "grid_template_rows": null,
            "height": null,
            "justify_content": null,
            "justify_items": null,
            "left": null,
            "margin": null,
            "max_height": null,
            "max_width": null,
            "min_height": null,
            "min_width": null,
            "object_fit": null,
            "object_position": null,
            "order": null,
            "overflow": null,
            "overflow_x": null,
            "overflow_y": null,
            "padding": null,
            "right": null,
            "top": null,
            "visibility": null,
            "width": null
          }
        },
        "d281b297da1a4375bb55a79ac0a631c7": {
          "model_module": "@jupyter-widgets/base",
          "model_name": "LayoutModel",
          "model_module_version": "1.2.0",
          "state": {
            "_model_module": "@jupyter-widgets/base",
            "_model_module_version": "1.2.0",
            "_model_name": "LayoutModel",
            "_view_count": null,
            "_view_module": "@jupyter-widgets/base",
            "_view_module_version": "1.2.0",
            "_view_name": "LayoutView",
            "align_content": null,
            "align_items": null,
            "align_self": null,
            "border": null,
            "bottom": null,
            "display": null,
            "flex": null,
            "flex_flow": null,
            "grid_area": null,
            "grid_auto_columns": null,
            "grid_auto_flow": null,
            "grid_auto_rows": null,
            "grid_column": null,
            "grid_gap": null,
            "grid_row": null,
            "grid_template_areas": null,
            "grid_template_columns": null,
            "grid_template_rows": null,
            "height": null,
            "justify_content": null,
            "justify_items": null,
            "left": null,
            "margin": null,
            "max_height": null,
            "max_width": null,
            "min_height": null,
            "min_width": null,
            "object_fit": null,
            "object_position": null,
            "order": null,
            "overflow": null,
            "overflow_x": null,
            "overflow_y": null,
            "padding": null,
            "right": null,
            "top": null,
            "visibility": null,
            "width": null
          }
        },
        "a97b203cc1c9485f9a1f689fa7e488f4": {
          "model_module": "@jupyter-widgets/controls",
          "model_name": "DescriptionStyleModel",
          "model_module_version": "1.5.0",
          "state": {
            "_model_module": "@jupyter-widgets/controls",
            "_model_module_version": "1.5.0",
            "_model_name": "DescriptionStyleModel",
            "_view_count": null,
            "_view_module": "@jupyter-widgets/base",
            "_view_module_version": "1.2.0",
            "_view_name": "StyleView",
            "description_width": ""
          }
        },
        "fde3de65f9e3466dbe7f1c533ced04e5": {
          "model_module": "@jupyter-widgets/base",
          "model_name": "LayoutModel",
          "model_module_version": "1.2.0",
          "state": {
            "_model_module": "@jupyter-widgets/base",
            "_model_module_version": "1.2.0",
            "_model_name": "LayoutModel",
            "_view_count": null,
            "_view_module": "@jupyter-widgets/base",
            "_view_module_version": "1.2.0",
            "_view_name": "LayoutView",
            "align_content": null,
            "align_items": null,
            "align_self": null,
            "border": null,
            "bottom": null,
            "display": null,
            "flex": null,
            "flex_flow": null,
            "grid_area": null,
            "grid_auto_columns": null,
            "grid_auto_flow": null,
            "grid_auto_rows": null,
            "grid_column": null,
            "grid_gap": null,
            "grid_row": null,
            "grid_template_areas": null,
            "grid_template_columns": null,
            "grid_template_rows": null,
            "height": null,
            "justify_content": null,
            "justify_items": null,
            "left": null,
            "margin": null,
            "max_height": null,
            "max_width": null,
            "min_height": null,
            "min_width": null,
            "object_fit": null,
            "object_position": null,
            "order": null,
            "overflow": null,
            "overflow_x": null,
            "overflow_y": null,
            "padding": null,
            "right": null,
            "top": null,
            "visibility": null,
            "width": null
          }
        },
        "183601de8dd64359a6c87d95fbc5dec2": {
          "model_module": "@jupyter-widgets/controls",
          "model_name": "ProgressStyleModel",
          "model_module_version": "1.5.0",
          "state": {
            "_model_module": "@jupyter-widgets/controls",
            "_model_module_version": "1.5.0",
            "_model_name": "ProgressStyleModel",
            "_view_count": null,
            "_view_module": "@jupyter-widgets/base",
            "_view_module_version": "1.2.0",
            "_view_name": "StyleView",
            "bar_color": null,
            "description_width": ""
          }
        },
        "076ea0a7f1b747c7908faa720c1f74c3": {
          "model_module": "@jupyter-widgets/base",
          "model_name": "LayoutModel",
          "model_module_version": "1.2.0",
          "state": {
            "_model_module": "@jupyter-widgets/base",
            "_model_module_version": "1.2.0",
            "_model_name": "LayoutModel",
            "_view_count": null,
            "_view_module": "@jupyter-widgets/base",
            "_view_module_version": "1.2.0",
            "_view_name": "LayoutView",
            "align_content": null,
            "align_items": null,
            "align_self": null,
            "border": null,
            "bottom": null,
            "display": null,
            "flex": null,
            "flex_flow": null,
            "grid_area": null,
            "grid_auto_columns": null,
            "grid_auto_flow": null,
            "grid_auto_rows": null,
            "grid_column": null,
            "grid_gap": null,
            "grid_row": null,
            "grid_template_areas": null,
            "grid_template_columns": null,
            "grid_template_rows": null,
            "height": null,
            "justify_content": null,
            "justify_items": null,
            "left": null,
            "margin": null,
            "max_height": null,
            "max_width": null,
            "min_height": null,
            "min_width": null,
            "object_fit": null,
            "object_position": null,
            "order": null,
            "overflow": null,
            "overflow_x": null,
            "overflow_y": null,
            "padding": null,
            "right": null,
            "top": null,
            "visibility": null,
            "width": null
          }
        },
        "86c002c4475d4663905ebbcf542298bf": {
          "model_module": "@jupyter-widgets/controls",
          "model_name": "DescriptionStyleModel",
          "model_module_version": "1.5.0",
          "state": {
            "_model_module": "@jupyter-widgets/controls",
            "_model_module_version": "1.5.0",
            "_model_name": "DescriptionStyleModel",
            "_view_count": null,
            "_view_module": "@jupyter-widgets/base",
            "_view_module_version": "1.2.0",
            "_view_name": "StyleView",
            "description_width": ""
          }
        },
        "490d0bd60fb54f6eb20c228ac45a6ae5": {
          "model_module": "@jupyter-widgets/controls",
          "model_name": "HBoxModel",
          "model_module_version": "1.5.0",
          "state": {
            "_dom_classes": [],
            "_model_module": "@jupyter-widgets/controls",
            "_model_module_version": "1.5.0",
            "_model_name": "HBoxModel",
            "_view_count": null,
            "_view_module": "@jupyter-widgets/controls",
            "_view_module_version": "1.5.0",
            "_view_name": "HBoxView",
            "box_style": "",
            "children": [
              "IPY_MODEL_2889f53a0a484d309c99a230c5446ffd",
              "IPY_MODEL_e436f41fa7964d2b8e43b8b372de6d45",
              "IPY_MODEL_3a527338d447452f8521de0aedd3fd1e"
            ],
            "layout": "IPY_MODEL_cba211a1a08342709307233d6bf100af"
          }
        },
        "2889f53a0a484d309c99a230c5446ffd": {
          "model_module": "@jupyter-widgets/controls",
          "model_name": "HTMLModel",
          "model_module_version": "1.5.0",
          "state": {
            "_dom_classes": [],
            "_model_module": "@jupyter-widgets/controls",
            "_model_module_version": "1.5.0",
            "_model_name": "HTMLModel",
            "_view_count": null,
            "_view_module": "@jupyter-widgets/controls",
            "_view_module_version": "1.5.0",
            "_view_name": "HTMLView",
            "description": "",
            "description_tooltip": null,
            "layout": "IPY_MODEL_b811481c378f45c08d467f9cadfc9df2",
            "placeholder": "​",
            "style": "IPY_MODEL_8c95f5552a6d498fb78c31c87976eda6",
            "value": "Downloading (…)ve/main/spiece.model: 100%"
          }
        },
        "e436f41fa7964d2b8e43b8b372de6d45": {
          "model_module": "@jupyter-widgets/controls",
          "model_name": "FloatProgressModel",
          "model_module_version": "1.5.0",
          "state": {
            "_dom_classes": [],
            "_model_module": "@jupyter-widgets/controls",
            "_model_module_version": "1.5.0",
            "_model_name": "FloatProgressModel",
            "_view_count": null,
            "_view_module": "@jupyter-widgets/controls",
            "_view_module_version": "1.5.0",
            "_view_name": "ProgressView",
            "bar_style": "success",
            "description": "",
            "description_tooltip": null,
            "layout": "IPY_MODEL_110bbd7261b94f53af60e32d11c52d17",
            "max": 791656,
            "min": 0,
            "orientation": "horizontal",
            "style": "IPY_MODEL_74faadafa9d64e9d9479ad1d81761cda",
            "value": 791656
          }
        },
        "3a527338d447452f8521de0aedd3fd1e": {
          "model_module": "@jupyter-widgets/controls",
          "model_name": "HTMLModel",
          "model_module_version": "1.5.0",
          "state": {
            "_dom_classes": [],
            "_model_module": "@jupyter-widgets/controls",
            "_model_module_version": "1.5.0",
            "_model_name": "HTMLModel",
            "_view_count": null,
            "_view_module": "@jupyter-widgets/controls",
            "_view_module_version": "1.5.0",
            "_view_name": "HTMLView",
            "description": "",
            "description_tooltip": null,
            "layout": "IPY_MODEL_514cd6c01d6c4ad4b5795e581564dd55",
            "placeholder": "​",
            "style": "IPY_MODEL_b3f507e55d7946dd967b7d1576663378",
            "value": " 792k/792k [00:00&lt;00:00, 12.9MB/s]"
          }
        },
        "cba211a1a08342709307233d6bf100af": {
          "model_module": "@jupyter-widgets/base",
          "model_name": "LayoutModel",
          "model_module_version": "1.2.0",
          "state": {
            "_model_module": "@jupyter-widgets/base",
            "_model_module_version": "1.2.0",
            "_model_name": "LayoutModel",
            "_view_count": null,
            "_view_module": "@jupyter-widgets/base",
            "_view_module_version": "1.2.0",
            "_view_name": "LayoutView",
            "align_content": null,
            "align_items": null,
            "align_self": null,
            "border": null,
            "bottom": null,
            "display": null,
            "flex": null,
            "flex_flow": null,
            "grid_area": null,
            "grid_auto_columns": null,
            "grid_auto_flow": null,
            "grid_auto_rows": null,
            "grid_column": null,
            "grid_gap": null,
            "grid_row": null,
            "grid_template_areas": null,
            "grid_template_columns": null,
            "grid_template_rows": null,
            "height": null,
            "justify_content": null,
            "justify_items": null,
            "left": null,
            "margin": null,
            "max_height": null,
            "max_width": null,
            "min_height": null,
            "min_width": null,
            "object_fit": null,
            "object_position": null,
            "order": null,
            "overflow": null,
            "overflow_x": null,
            "overflow_y": null,
            "padding": null,
            "right": null,
            "top": null,
            "visibility": null,
            "width": null
          }
        },
        "b811481c378f45c08d467f9cadfc9df2": {
          "model_module": "@jupyter-widgets/base",
          "model_name": "LayoutModel",
          "model_module_version": "1.2.0",
          "state": {
            "_model_module": "@jupyter-widgets/base",
            "_model_module_version": "1.2.0",
            "_model_name": "LayoutModel",
            "_view_count": null,
            "_view_module": "@jupyter-widgets/base",
            "_view_module_version": "1.2.0",
            "_view_name": "LayoutView",
            "align_content": null,
            "align_items": null,
            "align_self": null,
            "border": null,
            "bottom": null,
            "display": null,
            "flex": null,
            "flex_flow": null,
            "grid_area": null,
            "grid_auto_columns": null,
            "grid_auto_flow": null,
            "grid_auto_rows": null,
            "grid_column": null,
            "grid_gap": null,
            "grid_row": null,
            "grid_template_areas": null,
            "grid_template_columns": null,
            "grid_template_rows": null,
            "height": null,
            "justify_content": null,
            "justify_items": null,
            "left": null,
            "margin": null,
            "max_height": null,
            "max_width": null,
            "min_height": null,
            "min_width": null,
            "object_fit": null,
            "object_position": null,
            "order": null,
            "overflow": null,
            "overflow_x": null,
            "overflow_y": null,
            "padding": null,
            "right": null,
            "top": null,
            "visibility": null,
            "width": null
          }
        },
        "8c95f5552a6d498fb78c31c87976eda6": {
          "model_module": "@jupyter-widgets/controls",
          "model_name": "DescriptionStyleModel",
          "model_module_version": "1.5.0",
          "state": {
            "_model_module": "@jupyter-widgets/controls",
            "_model_module_version": "1.5.0",
            "_model_name": "DescriptionStyleModel",
            "_view_count": null,
            "_view_module": "@jupyter-widgets/base",
            "_view_module_version": "1.2.0",
            "_view_name": "StyleView",
            "description_width": ""
          }
        },
        "110bbd7261b94f53af60e32d11c52d17": {
          "model_module": "@jupyter-widgets/base",
          "model_name": "LayoutModel",
          "model_module_version": "1.2.0",
          "state": {
            "_model_module": "@jupyter-widgets/base",
            "_model_module_version": "1.2.0",
            "_model_name": "LayoutModel",
            "_view_count": null,
            "_view_module": "@jupyter-widgets/base",
            "_view_module_version": "1.2.0",
            "_view_name": "LayoutView",
            "align_content": null,
            "align_items": null,
            "align_self": null,
            "border": null,
            "bottom": null,
            "display": null,
            "flex": null,
            "flex_flow": null,
            "grid_area": null,
            "grid_auto_columns": null,
            "grid_auto_flow": null,
            "grid_auto_rows": null,
            "grid_column": null,
            "grid_gap": null,
            "grid_row": null,
            "grid_template_areas": null,
            "grid_template_columns": null,
            "grid_template_rows": null,
            "height": null,
            "justify_content": null,
            "justify_items": null,
            "left": null,
            "margin": null,
            "max_height": null,
            "max_width": null,
            "min_height": null,
            "min_width": null,
            "object_fit": null,
            "object_position": null,
            "order": null,
            "overflow": null,
            "overflow_x": null,
            "overflow_y": null,
            "padding": null,
            "right": null,
            "top": null,
            "visibility": null,
            "width": null
          }
        },
        "74faadafa9d64e9d9479ad1d81761cda": {
          "model_module": "@jupyter-widgets/controls",
          "model_name": "ProgressStyleModel",
          "model_module_version": "1.5.0",
          "state": {
            "_model_module": "@jupyter-widgets/controls",
            "_model_module_version": "1.5.0",
            "_model_name": "ProgressStyleModel",
            "_view_count": null,
            "_view_module": "@jupyter-widgets/base",
            "_view_module_version": "1.2.0",
            "_view_name": "StyleView",
            "bar_color": null,
            "description_width": ""
          }
        },
        "514cd6c01d6c4ad4b5795e581564dd55": {
          "model_module": "@jupyter-widgets/base",
          "model_name": "LayoutModel",
          "model_module_version": "1.2.0",
          "state": {
            "_model_module": "@jupyter-widgets/base",
            "_model_module_version": "1.2.0",
            "_model_name": "LayoutModel",
            "_view_count": null,
            "_view_module": "@jupyter-widgets/base",
            "_view_module_version": "1.2.0",
            "_view_name": "LayoutView",
            "align_content": null,
            "align_items": null,
            "align_self": null,
            "border": null,
            "bottom": null,
            "display": null,
            "flex": null,
            "flex_flow": null,
            "grid_area": null,
            "grid_auto_columns": null,
            "grid_auto_flow": null,
            "grid_auto_rows": null,
            "grid_column": null,
            "grid_gap": null,
            "grid_row": null,
            "grid_template_areas": null,
            "grid_template_columns": null,
            "grid_template_rows": null,
            "height": null,
            "justify_content": null,
            "justify_items": null,
            "left": null,
            "margin": null,
            "max_height": null,
            "max_width": null,
            "min_height": null,
            "min_width": null,
            "object_fit": null,
            "object_position": null,
            "order": null,
            "overflow": null,
            "overflow_x": null,
            "overflow_y": null,
            "padding": null,
            "right": null,
            "top": null,
            "visibility": null,
            "width": null
          }
        },
        "b3f507e55d7946dd967b7d1576663378": {
          "model_module": "@jupyter-widgets/controls",
          "model_name": "DescriptionStyleModel",
          "model_module_version": "1.5.0",
          "state": {
            "_model_module": "@jupyter-widgets/controls",
            "_model_module_version": "1.5.0",
            "_model_name": "DescriptionStyleModel",
            "_view_count": null,
            "_view_module": "@jupyter-widgets/base",
            "_view_module_version": "1.2.0",
            "_view_name": "StyleView",
            "description_width": ""
          }
        }
      }
    }
  },
  "nbformat": 4,
  "nbformat_minor": 5
}